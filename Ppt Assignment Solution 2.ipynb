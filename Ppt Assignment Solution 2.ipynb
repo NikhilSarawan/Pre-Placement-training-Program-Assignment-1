{
 "cells": [
  {
   "cell_type": "code",
   "execution_count": null,
   "id": "9e026edf",
   "metadata": {},
   "outputs": [],
   "source": [
    "##Question 1-Given an integer array nums of 2n integers, group these integers into n pairs (a1, b1), (a2, b2),...,\n",
    "#(an, bn) such that the sum of min(ai, bi) for all i is maximized. Return the maximized sum.\n"
   ]
  },
  {
   "cell_type": "code",
   "execution_count": null,
   "id": "b201dd8c",
   "metadata": {},
   "outputs": [],
   "source": [
    "Ans-\n",
    "\n",
    "def arrayPairSum(nums):\n",
    "    nums.sort() \n",
    "    max_sum = 0\n",
    "    for i in range(0, len(nums), 2):\n",
    "        max_sum += min(nums[i], nums[i+1])\n",
    "    return max_sum\n"
   ]
  },
  {
   "cell_type": "code",
   "execution_count": null,
   "id": "dd203f66",
   "metadata": {},
   "outputs": [],
   "source": [
    "##Question 2-Alice has n candies, where the ith candy is of type candyType[i]. Alice noticed that she started to gain weight, \n",
    "#so she visited a doctor. The doctor advised Alice to only eat n / 2 of the candies she has (n is always even).\n",
    "#Alice likes her candies very much, and she wants to eat the maximum number of different types of candies while still,\n",
    "#following the doctor's advice. Given the integer array candyType of length n, return the maximum number of different,\n",
    "#types of candies she can eat if she only eats n / 2 of them."
   ]
  },
  {
   "cell_type": "code",
   "execution_count": null,
   "id": "16761cf4",
   "metadata": {},
   "outputs": [],
   "source": [
    "Ans-\n",
    "\n",
    "def maxCandies(candyType):\n",
    "    unique_candy_types = set()\n",
    "    for candy in candyType:\n",
    "        unique_candy_types.add(candy)\n",
    "    \n",
    "    max_candy_types = min(len(unique_candy_types), len(candyType) // 2)\n",
    "    return max_candy_types\n"
   ]
  },
  {
   "cell_type": "code",
   "execution_count": null,
   "id": "9590e51b",
   "metadata": {},
   "outputs": [],
   "source": [
    "##Question 3-We define a harmonious array as an array where the difference between its maximum value and its minimum\n",
    "#value is exactly 1.Given an integer array nums, return the length of its longest harmonious subsequence among all its,\n",
    "#possible subsequences.A subsequence of an array is a sequence that can be derived from the array by deleting some or ,\n",
    "#no elements without changing the order of the remaining elements.\n"
   ]
  },
  {
   "cell_type": "code",
   "execution_count": null,
   "id": "bf38d512",
   "metadata": {},
   "outputs": [],
   "source": [
    "Ans-\n",
    "\n",
    "def findLHS(nums):\n",
    "    num_freq = {}\n",
    "    for num in nums:\n",
    "        if num not in num_freq:\n",
    "            num_freq[num] = 1\n",
    "        else:\n",
    "            num_freq[num] += 1\n",
    "\n",
    "    max_length = 0\n",
    "    for num, freq in num_freq.items():\n",
    "        if num + 1 in num_freq:\n",
    "            max_length = max(max_length, freq + num_freq[num + 1])\n",
    "\n",
    "    return max_length\n"
   ]
  },
  {
   "cell_type": "code",
   "execution_count": null,
   "id": "855ff8cb",
   "metadata": {},
   "outputs": [],
   "source": [
    "##Question 4-You have a long flowerbed in which some of the plots are planted, and some are not.However, flowers cannot,\n",
    "#be planted in adjacent plots.Given an integer array flowerbed containing 0's and 1's, where 0 means empty and 1 means,\n",
    "#not empty, and an integer n, return true if n new flowers can be planted in the flowerbed without violating the,\n",
    "#no-adjacent-flowers rule and false otherwise."
   ]
  },
  {
   "cell_type": "code",
   "execution_count": null,
   "id": "9d46ac9a",
   "metadata": {},
   "outputs": [],
   "source": [
    "Ans-\n",
    "def canPlaceFlowers(flowerbed, n):\n",
    "    count = 0\n",
    "    for i in range(len(flowerbed)):\n",
    "        if (\n",
    "            flowerbed[i] == 0\n",
    "            and (i == 0 or flowerbed[i - 1] == 0)\n",
    "            and (i == len(flowerbed) - 1 or flowerbed[i + 1] == 0)\n",
    "        ):\n",
    "            flowerbed[i] = 1\n",
    "            count += 1\n",
    "            n -= 1\n",
    "            if n <= 0:\n",
    "                return True\n",
    "    return False\n",
    "\n"
   ]
  },
  {
   "cell_type": "code",
   "execution_count": null,
   "id": "024e7c93",
   "metadata": {},
   "outputs": [],
   "source": [
    "##Question 5-Given an integer array nums, find three numbers whose product is maximum and return the maximum product."
   ]
  },
  {
   "cell_type": "code",
   "execution_count": null,
   "id": "994b7407",
   "metadata": {},
   "outputs": [],
   "source": [
    "Ans-\n",
    "\n",
    "def maximumProduct(nums):\n",
    "    nums.sort()  \n",
    "    n = len(nums)\n",
    "    return max(nums[n-1] * nums[n-2] * nums[n-3], nums[0] * nums[1] * nums[n-1])\n",
    "\n",
    "\n",
    "nums = [1, 2, 3]\n",
    "print(maximumProduct(nums))  \n"
   ]
  },
  {
   "cell_type": "code",
   "execution_count": null,
   "id": "25c64578",
   "metadata": {},
   "outputs": [],
   "source": [
    "##Question 6-Given an array of integers nums which is sorted in ascending order, and an integer target,write a function,\n",
    "#to search target in nums. If target exists, then return its index. Otherwise,return -1."
   ]
  },
  {
   "cell_type": "code",
   "execution_count": null,
   "id": "c0462ac5",
   "metadata": {},
   "outputs": [],
   "source": [
    "Ans-\n",
    "\n",
    "def search(nums, target):\n",
    "    left = 0\n",
    "    right = len(nums) - 1\n",
    "    \n",
    "    while left <= right:\n",
    "        mid = (left + right) // 2\n",
    "        \n",
    "        if nums[mid] == target:\n",
    "            return mid\n",
    "        elif nums[mid] < target:\n",
    "            left = mid + 1\n",
    "        else:\n",
    "            right = mid - 1\n",
    "    \n",
    "    return -1\n",
    "\n",
    "\n",
    "nums = [-1, 0, 3, 5, 9, 12]\n",
    "target = 9\n",
    "print(search(nums, target))  \n"
   ]
  },
  {
   "cell_type": "code",
   "execution_count": null,
   "id": "510dbc2b",
   "metadata": {},
   "outputs": [],
   "source": [
    "##Question 7-An array is monotonic if it is either monotone increasing or monotone decreasing.An array nums is monotone,\n",
    "#increasing if for all i <= j, nums[i] <= nums[j]. An array nums is monotone decreasing if for all i <= j, nums[i] >= nums[j].\n",
    "#Given an integer array nums, return true if the given array is monotonic, or false otherwise.\n"
   ]
  },
  {
   "cell_type": "code",
   "execution_count": null,
   "id": "96782353",
   "metadata": {},
   "outputs": [],
   "source": [
    "Ans-\n",
    "\n",
    "def isMonotonic(nums):\n",
    "    increasing = decreasing = True\n",
    "\n",
    "    for i in range(1, len(nums)):\n",
    "        if nums[i] < nums[i - 1]:\n",
    "            increasing = False\n",
    "        if nums[i] > nums[i - 1]:\n",
    "            decreasing = False\n",
    "\n",
    "    return increasing or decreasing\n",
    "\n",
    "\n",
    "nums = [1, 2, 2, 3]\n",
    "print(isMonotonic(nums))  \n"
   ]
  },
  {
   "cell_type": "code",
   "execution_count": null,
   "id": "138634b0",
   "metadata": {},
   "outputs": [],
   "source": [
    "##Question 8-You are given an integer array nums and an integer k. In one operation, you can choose any index i where,\n",
    "#0 <= i < nums.length and change nums[i] to nums[i] + x where x is an integer from the range [-k, k].\n",
    "#You can apply this operation at most once for each index i. The score of nums is the difference between the maximum,\n",
    "#and minimum elements in nums.Return the minimum score of nums after applying the mentioned operation at most once for each index in it."
   ]
  },
  {
   "cell_type": "code",
   "execution_count": null,
   "id": "6b3a4db2",
   "metadata": {},
   "outputs": [],
   "source": [
    "Ans-\n",
    "\n",
    "def minimumScore(nums, k):\n",
    "    minimum = min(nums)\n",
    "    maximum = max(nums)\n",
    "    initial_score = maximum - minimum\n",
    "\n",
    "    if initial_score == 0:\n",
    "        return 0\n",
    "\n",
    "    min_score = initial_score\n",
    "\n",
    "    for num in nums:\n",
    "        for x in range(-k, k + 1):\n",
    "            new_min = min(minimum, num + x)\n",
    "            new_max = max(maximum, num + x)\n",
    "            min_score = min(min_score, new_max - new_min)\n",
    "\n",
    "    return min_score\n",
    "\n",
    "\n",
    "nums = [1]\n",
    "k = 0\n",
    "print(minimumScore(nums, k))  \n"
   ]
  }
 ],
 "metadata": {
  "kernelspec": {
   "display_name": "Python 3 (ipykernel)",
   "language": "python",
   "name": "python3"
  },
  "language_info": {
   "codemirror_mode": {
    "name": "ipython",
    "version": 3
   },
   "file_extension": ".py",
   "mimetype": "text/x-python",
   "name": "python",
   "nbconvert_exporter": "python",
   "pygments_lexer": "ipython3",
   "version": "3.9.13"
  }
 },
 "nbformat": 4,
 "nbformat_minor": 5
}
