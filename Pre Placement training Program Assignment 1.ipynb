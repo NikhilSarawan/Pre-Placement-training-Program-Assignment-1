{
 "cells": [
  {
   "cell_type": "code",
   "execution_count": null,
   "id": "c38d4522",
   "metadata": {},
   "outputs": [],
   "source": [
    "\n",
    "##**Q1.** Given an array of integers nums and an integer target, return indices of the two numbers such that they ,\n",
    "#add up to target.You may assume that each input would have exactly one solution, and you may not use the same element twice.\n",
    "#You can return the answer in any order.\n",
    "\n"
   ]
  },
  {
   "cell_type": "code",
   "execution_count": null,
   "id": "327a8c03",
   "metadata": {},
   "outputs": [],
   "source": [
    "Ans-\n",
    "def twoSum(nums, target):\n",
    "    num_map = {} \n",
    "\n",
    "    for i, num in enumerate(nums):\n",
    "        complement = target - num\n",
    "        if complement in num_map:\n",
    "            return [num_map[complement], i]\n",
    "        num_map[num] = i\n",
    "\n",
    "   \n",
    "    return []\n",
    "\n",
    "\n",
    "nums = [2, 7, 11, 15]\n",
    "target = 9\n",
    "result = twoSum(nums, target)\n",
    "print(result)  \n"
   ]
  },
  {
   "cell_type": "code",
   "execution_count": null,
   "id": "274e0019",
   "metadata": {},
   "outputs": [],
   "source": [
    "## **Q2.** (Given an integer array nums and an integer val, remove all occurrences of val in nums in-place.\n",
    "#The order of the elements may be changed. Then return the number of elements in nums which are not equal to val.Consider,\n",
    "#the number of elements in nums which are not equal to val be k, to get accepted, you need to do the following things:\n",
    "#Change the array nums such that the first k elements of nums contain the elements which are not equal to val. \n",
    "#The remaining elements of nums are not important as well as the size of nums.- Return k.)\n",
    "\n"
   ]
  },
  {
   "cell_type": "code",
   "execution_count": null,
   "id": "4a666981",
   "metadata": {},
   "outputs": [],
   "source": [
    "Ans-\n",
    "def removeElement(nums, val):\n",
    "    i = 0 \n",
    "\n",
    "    for j in range(len(nums)):\n",
    "        if nums[j] != val:\n",
    "            nums[i] = nums[j]\n",
    "            i += 1\n",
    "\n",
    "    return i\n",
    "\n",
    "# Test case\n",
    "nums = [3, 2, 2, 3]\n",
    "val = 3\n",
    "result = removeElement(nums, val)\n",
    "print(result)\n",
    "print(nums)   \n"
   ]
  },
  {
   "cell_type": "code",
   "execution_count": null,
   "id": "ccf09b4a",
   "metadata": {},
   "outputs": [],
   "source": [
    "## **Q3.** Given a sorted array of distinct integers and a target value, return the index if the target is found. \n",
    "#If not, return the index where it would be if it were inserted in order.You must write an algorithm with O(log n),\n",
    "#runtime complexity.\n",
    "\n"
   ]
  },
  {
   "cell_type": "code",
   "execution_count": null,
   "id": "80bef2cb",
   "metadata": {},
   "outputs": [],
   "source": [
    "Ans-\n",
    "def searchInsert(nums, target):\n",
    "    left = 0\n",
    "    right = len(nums) - 1\n",
    "\n",
    "    while left <= right:\n",
    "        mid = left + (right - left) // 2\n",
    "\n",
    "        if nums[mid] == target:\n",
    "            return mid\n",
    "        elif nums[mid] < target:\n",
    "            left = mid + 1\n",
    "        else:\n",
    "            right = mid - 1\n",
    "\n",
    "    return left\n",
    "\n",
    "\n",
    "nums = [1, 3, 5, 6]\n",
    "target = 5\n",
    "result = searchInsert(nums, target)\n",
    "print(result) \n"
   ]
  },
  {
   "cell_type": "code",
   "execution_count": null,
   "id": "d572019a",
   "metadata": {},
   "outputs": [],
   "source": [
    "## **Q4.** You are given a large integer represented as an integer array digits, where each digits[i] is the ith digit,\n",
    "#of the integer. The digits are ordered from most significant to least significant in left-to-right order.,\n",
    "#The large integer does not contain any leading 0's.Increment the large integer by one and return the resulting array of digits.\n",
    "\n"
   ]
  },
  {
   "cell_type": "code",
   "execution_count": null,
   "id": "97e13b15",
   "metadata": {},
   "outputs": [],
   "source": [
    "Ans-\n",
    "def plusOne(digits):\n",
    "    n = len(digits)\n",
    "    carry = 1 \n",
    "\n",
    "    for i in range(n - 1, -1, -1):\n",
    "        digits[i] += carry\n",
    "\n",
    "        if digits[i] < 10:\n",
    "            carry = 0\n",
    "            break\n",
    "\n",
    "        digits[i] = 0\n",
    "\n",
    "    if carry == 1:\n",
    "        digits.insert(0, 1)\n",
    "\n",
    "    return digits\n",
    "\n",
    "\n",
    "digits = [1, 2, 3]\n",
    "result = plusOne(digits)\n",
    "print(result)  \n",
    "\n"
   ]
  },
  {
   "cell_type": "code",
   "execution_count": null,
   "id": "e3b30947",
   "metadata": {},
   "outputs": [],
   "source": [
    "##**Q5.** You are given two integer arrays nums1 and nums2, sorted in non-decreasing order, and two integers m and n,\n",
    "#representing the number of elements in nums1 and nums2 respectively.Merge nums1 and nums2 into a single array sorted,\n",
    "#in non-decreasing order.The final sorted array should not be returned by the function, but instead be stored inside ,\n",
    "#the array nums1. To accommodate this, nums1 has a length of m + n, where the first m elements denote the elements ,\n",
    "#that should be merged, and the last n elements are set to 0 and should be ignored. nums2 has a length of n.\n",
    "\n"
   ]
  },
  {
   "cell_type": "code",
   "execution_count": null,
   "id": "48a6d8c2",
   "metadata": {},
   "outputs": [],
   "source": [
    "Ans-\n",
    "def merge(nums1, m, nums2, n):\n",
    "    i = m - 1 \n",
    "    j = n - 1  \n",
    "    k = m + n - 1  \n",
    "\n",
    "    while i >= 0 and j >= 0:\n",
    "        if nums1[i] <= nums2[j]:\n",
    "            nums1[k] = nums2[j]\n",
    "            j -= 1\n",
    "        else:\n",
    "            nums1[k] = nums1[i]\n",
    "            i -= 1\n",
    "        k -= 1\n",
    "\n",
    "    \n",
    "    while j >= 0:\n",
    "        nums1[k] = nums2[j]\n",
    "        j -= 1\n",
    "        k -= 1\n",
    "\n",
    "\n",
    "nums1 = [1, 2, 3, 0, 0, 0]\n",
    "m = 3\n",
    "nums2 = [2, 5, 6]\n",
    "n = 3\n",
    "merge(nums1, m, nums2, n)\n",
    "print(nums1)  \n"
   ]
  },
  {
   "cell_type": "code",
   "execution_count": null,
   "id": "d35f8882",
   "metadata": {},
   "outputs": [],
   "source": [
    "##Q6. Given an integer array nums, return true if any value appears at least twice in the array, and return false,\n",
    "#if every element is distinct."
   ]
  },
  {
   "cell_type": "code",
   "execution_count": null,
   "id": "1288579c",
   "metadata": {},
   "outputs": [],
   "source": [
    "Ans-\n",
    "def containsDuplicate(nums):\n",
    "    num_set = set()\n",
    "\n",
    "    for num in nums:\n",
    "        if num in num_set:\n",
    "            return True\n",
    "        num_set.add(num)\n",
    "\n",
    "    return False\n",
    "\n",
    "\n",
    "nums = [1, 2, 3, 1]\n",
    "result = containsDuplicate(nums)\n",
    "print(result)  \n"
   ]
  },
  {
   "cell_type": "code",
   "execution_count": null,
   "id": "c9e333b0",
   "metadata": {},
   "outputs": [],
   "source": [
    "##**Q7.** Given an integer array nums, move all 0's to the end of it while maintaining the relative order of the,\n",
    "#nonzero elements.Note that you must do this in-place without making a copy of the array\n",
    "\n"
   ]
  },
  {
   "cell_type": "code",
   "execution_count": null,
   "id": "f2987e49",
   "metadata": {},
   "outputs": [],
   "source": [
    "Ans-\n",
    "def moveZeroes(nums):\n",
    "    insert_pos = 0\n",
    "\n",
    "    for i in range(len(nums)):\n",
    "        if nums[i] != 0:\n",
    "            nums[insert_pos] = nums[i]\n",
    "            insert_pos += 1\n",
    "\n",
    "    for i in range(insert_pos, len(nums)):\n",
    "        nums[i] = 0\n",
    "\n",
    "\n",
    "nums = [0, 1, 0, 3, 12]\n",
    "moveZeroes(nums)\n",
    "print(nums) \n"
   ]
  },
  {
   "cell_type": "code",
   "execution_count": null,
   "id": "3d5125c0",
   "metadata": {},
   "outputs": [],
   "source": [
    "##**Q8.** You have a set of integers s, which originally contains all the numbers from 1 to n. Unfortunately, \n",
    "#due to some error, one of the numbers in s got duplicated to another number in the set, which results in repetition,\n",
    "#of one number and loss of another number.You are given an integer array nums representing the data status of this ,\n",
    "#set after the error.Find the number that occurs twice and the number that is missing and return them in the form of an array.\n",
    "\n"
   ]
  },
  {
   "cell_type": "code",
   "execution_count": null,
   "id": "b9977294",
   "metadata": {},
   "outputs": [],
   "source": [
    "Ans-\n",
    "def findErrorNums(nums):\n",
    "    num_set = set()\n",
    "    duplicate = -1\n",
    "    missing = -1\n",
    "    expected_sum = 0\n",
    "    actual_sum = 0\n",
    "\n",
    "    for num in nums:\n",
    "        if num in num_set:\n",
    "            duplicate = num\n",
    "        num_set.add(num)\n",
    "        expected_sum += num\n",
    "\n",
    "    n = len(nums)\n",
    "    actual_sum = (n * (n + 1)) // 2\n",
    "    missing = actual_sum - expected_sum + duplicate\n",
    "\n",
    "    return [duplicate, missing]\n",
    "\n",
    "\n",
    "nums = [1, 2, 2, 4]\n",
    "result = findErrorNums(nums)\n",
    "print(result) \n"
   ]
  }
 ],
 "metadata": {
  "kernelspec": {
   "display_name": "Python 3 (ipykernel)",
   "language": "python",
   "name": "python3"
  },
  "language_info": {
   "codemirror_mode": {
    "name": "ipython",
    "version": 3
   },
   "file_extension": ".py",
   "mimetype": "text/x-python",
   "name": "python",
   "nbconvert_exporter": "python",
   "pygments_lexer": "ipython3",
   "version": "3.9.13"
  }
 },
 "nbformat": 4,
 "nbformat_minor": 5
}
